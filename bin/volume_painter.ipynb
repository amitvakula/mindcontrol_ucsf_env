{
 "cells": [
  {
   "cell_type": "code",
   "execution_count": 77,
   "metadata": {
    "collapsed": true
   },
   "outputs": [],
   "source": [
    "# dependencies\n",
    "import pymongo\n",
    "import nibabel as nib\n",
    "from os.path import join, exists, split\n",
    "from dipy.tracking import utils\n",
    "import os\n",
    "import numpy as np\n",
    "from dipy.tracking.utils import subsegment"
   ]
  },
  {
   "cell_type": "code",
   "execution_count": 78,
   "metadata": {
    "collapsed": true
   },
   "outputs": [],
   "source": [
    "# pull painter objects from a specific freesurfer ID\n",
    "\n",
    "def get_collection(port=3001):\n",
    "    from pymongo import MongoClient\n",
    "    client = MongoClient(\"localhost\", port)\n",
    "    db =  client.meteor\n",
    "    collection = db.subjects\n",
    "    return collection, client\n",
    "\n",
    "collection, client = get_collection(5051)"
   ]
  },
  {
   "cell_type": "code",
   "execution_count": 12,
   "metadata": {
    "collapsed": false,
    "scrolled": true
   },
   "outputs": [
    {
     "name": "stdout",
     "output_type": "stream",
     "text": [
      "\n",
      "{'subject_id': 'mse65', '_id': ObjectId('57a279df142c116598dfadfe'), 'check_masks': ['mse65/nii/ms534-mse65-001-SCOUTS_132Lbs_WEIGHT-000.nii.gz'], 'entry_type': 'nifti', 'name': 'ms534-mse65-001-SCOUTS_132Lbs_WEIGHT-000'}\n",
      "\n",
      "\n",
      "{'subject_id': 'mse65', '_id': ObjectId('57a279df142c116598dfadff'), 'check_masks': ['mse65/nii/ms534-mse65-001-SCOUTS_132Lbs_WEIGHT-001.nii.gz'], 'entry_type': 'nifti', 'name': 'ms534-mse65-001-SCOUTS_132Lbs_WEIGHT-001'}\n",
      "\n",
      "\n",
      "{'subject_id': 'mse65', '_id': ObjectId('57a279df142c116598dfae00'), 'check_masks': ['mse65/nii/ms534-mse65-001-SCOUTS_132Lbs_WEIGHT-002.nii.gz'], 'entry_type': 'nifti', 'name': 'ms534-mse65-001-SCOUTS_132Lbs_WEIGHT-002'}\n",
      "\n",
      "\n",
      "{'subject_id': 'mse65', '_id': ObjectId('57a279df142c116598dfae01'), 'check_masks': ['mse65/nii/ms534-mse65-002-AX_T1_3D_IRSPGR_te_1.6.nii.gz'], 'entry_type': 'nifti', 'name': 'ms534-mse65-002-AX_T1_3D_IRSPGR_te_1.6'}\n",
      "\n",
      "\n",
      "{'subject_id': 'mse65', '_id': ObjectId('57a279df142c116598dfae02'), 'check_masks': ['mse65/nii/ms534-mse65-003-FRFSE-000.nii.gz'], 'entry_type': 'nifti', 'name': 'ms534-mse65-003-FRFSE-000'}\n",
      "\n",
      "\n",
      "{'subject_id': 'mse65', '_id': ObjectId('57a279df142c116598dfae03'), 'check_masks': ['mse65/nii/ms534-mse65-003-FRFSE-001.nii.gz'], 'entry_type': 'nifti', 'name': 'ms534-mse65-003-FRFSE-001'}\n",
      "\n",
      "\n",
      "{'subject_id': 'mse65', '_id': ObjectId('57a279df142c116598dfae04'), 'check_masks': ['mse65/nii/ms534-mse65-004-ASSET_CAL__TURN_OFF_PACS.nii.gz'], 'entry_type': 'nifti', 'name': 'ms534-mse65-004-ASSET_CAL__TURN_OFF_PACS'}\n",
      "\n",
      "\n",
      "{'subject_id': 'mse65', '_id': ObjectId('57a279df142c116598dfae05'), 'check_masks': ['mse65/nii/ms534-mse65-005-SPGR_DESPOT1.nii.gz'], 'entry_type': 'nifti', 'name': 'ms534-mse65-005-SPGR_DESPOT1'}\n",
      "\n",
      "\n",
      "{'subject_id': 'mse65', '_id': ObjectId('57a279df142c116598dfae06'), 'check_masks': ['mse65/nii/ms534-mse65-006-IR_SPGR_DESPOT1.nii.gz'], 'entry_type': 'nifti', 'name': 'ms534-mse65-006-IR_SPGR_DESPOT1'}\n",
      "\n",
      "\n",
      "{'subject_id': 'mse65', '_id': ObjectId('57a279df142c116598dfae07'), 'check_masks': ['mse65/nii/ms534-mse65-007-DESPOT2.nii.gz'], 'entry_type': 'nifti', 'name': 'ms534-mse65-007-DESPOT2'}\n",
      "\n",
      "\n",
      "{'subject_id': 'mse65', '_id': ObjectId('57a279df142c116598dfae08'), 'check_masks': ['mse65/nii/ms534-mse65-008-ASSET_CAL__TURN_OFF_PACS.nii.gz'], 'entry_type': 'nifti', 'name': 'ms534-mse65-008-ASSET_CAL__TURN_OFF_PACS'}\n",
      "\n",
      "\n",
      "{'subject_id': 'mse65', '_id': ObjectId('57a279df142c116598dfae09'), 'check_masks': ['mse65/nii/ms534-mse65-010-hardi-000.nii.gz'], 'entry_type': 'nifti', 'name': 'ms534-mse65-010-hardi-000'}\n",
      "\n",
      "\n",
      "{'subject_id': 'mse65', '_id': ObjectId('57a279df142c116598dfae0a'), 'check_masks': ['mse65/nii/ms534-mse65-011-T2_FLAIR_AXIAL_pos_Gad.nii.gz'], 'entry_type': 'nifti', 'name': 'ms534-mse65-011-T2_FLAIR_AXIAL_pos_Gad'}\n",
      "\n",
      "\n",
      "{'subject_id': 'mse65', '_id': ObjectId('57a279df142c116598dfae0b'), 'check_masks': ['mse65/nii/ms534-mse65-012-AX_T1_post_gad.nii.gz'], 'entry_type': 'nifti', 'name': 'ms534-mse65-012-AX_T1_post_gad'}\n",
      "\n",
      "\n",
      "{'_id': ObjectId('57a5a747142c1124e7b23203'), 'metrics': {'rh_entorhinal_GrayVol': 1495.0, 'lh_lingual_FoldInd': 138.0, 'lh_rostralmiddlefrontal_SurfArea': 4837.0, 'rh_postcentral_SurfArea': 4267.0, 'lh_inferiortemporal_CurvInd': 14.5, '5th-Ventricle': 33.0, 'rh_middletemporal_ThickAvg': 2.856, 'rh_parstriangularis_CurvInd': 5.3, 'lh_lateralorbitofrontal_ThickStd': 0.607, 'lh_medialorbitofrontal_SurfArea': 1660.0, 'rh_middletemporal_CurvInd': 18.0, 'lh_frontalpole_FoldInd': 21.0, 'rh_caudalanteriorcingulate_CurvInd': 3.2, 'rh_insula_ThickAvg': 3.098, 'rh_bankssts_NumVert': 1407.0, 'lh_inferiorparietal_GrayVol': 13544.0, 'lh_inferiortemporal_NumVert': 3490.0, 'lh_middletemporal_ThickAvg': 2.982, 'rh_entorhinal_MeanCurv': 0.173, 'lh_parsorbitalis_GrayVol': 1444.0, 'rh_superiortemporal_ThickStd': 0.589, 'rh_rostralmiddlefrontal_ThickStd': 0.611, 'rh_superiorfrontal_NumVert': 11015.0, 'rh_parstriangularis_FoldInd': 43.0, 'rh_superiorparietal_ThickAvg': 1.921, 'rh_caudalanteriorcingulate_GausCurv': 0.056, 'lh_precuneus_ThickStd': 0.559, 'lh_superiortemporal_ThickAvg': 2.623, 'rh_lingual_GausCurv': 0.113, 'CC_Mid_Anterior': 404.7, 'lh_parsopercularis_GrayVol': 5440.0, 'rh_temporalpole_ThickStd': 0.832, 'lh_fusiform_GrayVol': 10028.0, 'lh_pericalcarine_ThickAvg': 1.403, 'rh_transversetemporal_GrayVol': 839.0, 'CorticalWhiteMatterVol': 449063.748441, 'rh_entorhinal_GausCurv': 0.101, 'rh_parstriangularis_ThickAvg': 2.271, 'lh_lingual_MeanCurv': 0.159, 'lh_rostralmiddlefrontal_CurvInd': 34.6, 'rh_superiorfrontal_ThickStd': 0.558, 'rh_bankssts_ThickAvg': 2.338, 'lh_lateraloccipital_FoldInd': 212.0, 'rh_inferiorparietal_SurfArea': 5785.0, 'lh_fusiform_MeanCurv': 0.158, 'lh_rostralanteriorcingulate_SurfArea': 1036.0, 'lh_inferiortemporal_GrayVol': 9782.0, 'rh_parsopercularis_ThickStd': 0.428, 'lh_medialorbitofrontal_ThickAvg': 2.583, 'rh_superiorfrontal_GausCurv': 0.069, 'rh_rostralmiddlefrontal_FoldInd': 234.0, '3rd-Ventricle': 1854.9, 'rh_pericalcarine_CurvInd': 6.4, 'rh_transversetemporal_NumVert': 617.0, 'lh_superiortemporal_ThickStd': 0.533, 'lh_parahippocampal_SurfArea': 721.0, 'rh_lingual_MeanCurv': 0.18, 'rh_lateraloccipital_MeanCurv': 0.171, 'lh_transversetemporal_SurfArea': 533.0, 'lh_parstriangularis_GrayVol': 3578.0, 'rh_caudalmiddlefrontal_GausCurv': 0.056, 'lh_superiortemporal_GausCurv': 0.058, 'rh_transversetemporal_ThickAvg': 2.197, 'lh_medialorbitofrontal_GausCurv': 0.097, 'lh_supramarginal_FoldInd': 1652.0, 'lh_lateralorbitofrontal_NumVert': 3911.0, 'lh_bankssts_CurvInd': 2.8, 'lh_fusiform_NumVert': 4398.0, 'rh_caudalanteriorcingulate_FoldInd': 28.0, 'Left-Putamen': 5396.7, 'rh_inferiortemporal_ThickStd': 0.777, 'lh_temporalpole_ThickAvg': 2.718, 'lh_lateralorbitofrontal_CurvInd': 13.6, 'lh_parahippocampal_GausCurv': 0.056, 'rh_parahippocampal_CurvInd': 2.6, 'lh_inferiorparietal_ThickAvg': 2.282, 'lh_rostralmiddlefrontal_ThickAvg': 2.231, 'rh_postcentral_ThickAvg': 1.937, 'rh_parsorbitalis_ThickAvg': 2.499, 'CC_Mid_Posterior': 252.5, 'rh_precuneus_CurvInd': 21.8, 'rh_insula_CurvInd': 21.6, 'lh_frontalpole_NumVert': 286.0, 'lh_middletemporal_CurvInd': 14.6, 'lh_frontalpole_GausCurv': 0.151, 'lh_cuneus_ThickStd': 0.471, 'lh_cuneus_SurfArea': 1473.0, 'lh_transversetemporal_CurvInd': 1.9, 'Left-Thalamus-Proper': 7964.0, 'rh_rostralmiddlefrontal_GrayVol': 14543.0, 'rh_inferiorparietal_GausCurv': 0.075, 'rh_medialorbitofrontal_ThickAvg': 2.605, 'Left-VentralDC': 3911.6, 'Left-vessel': 31.2, 'rh_fusiform_FoldInd': 104.0, 'rh_superiorfrontal_ThickAvg': 2.592, 'rh_rostralmiddlefrontal_ThickAvg': 2.337, 'rh_precentral_ThickAvg': 2.435, 'rh_entorhinal_CurvInd': 2.1, 'rh_cuneus_ThickStd': 0.43, 'lh_superiorparietal_SurfArea': 5146.0, 'rh_lateralorbitofrontal_FoldInd': 70.0, 'lh_caudalanteriorcingulate_GausCurv': 0.057, 'lh_superiorfrontal_SurfArea': 7445.0, 'lh_fusiform_SurfArea': 2856.0, 'lh_middletemporal_FoldInd': 128.0, 'lh_lateralorbitofrontal_GausCurv': 0.086, 'rh_entorhinal_ThickAvg': 3.127, 'rh_medialorbitofrontal_GausCurv': 0.068, 'WM-hypointensities': 4985.9, 'rh_rostralanteriorcingulate_GrayVol': 2457.0, 'rh_superiorfrontal_SurfArea': 7396.0, 'rh_rostralanteriorcingulate_FoldInd': 34.0, 'SubCortGrayVol': 57643.0, 'rh_postcentral_FoldInd': 131.0, 'Right-non-WM-hypointensities': 0.0, 'lh_superiortemporal_CurvInd': 16.0, 'rh_fusiform_GrayVol': 10305.0, 'rh_caudalmiddlefrontal_ThickAvg': 2.419, 'rh_inferiorparietal_NumVert': 8585.0, 'lh_temporalpole_MeanCurv': 0.196, 'rh_supramarginal_ThickAvg': 2.369, 'rh_inferiortemporal_CurvInd': 17.6, 'Left-choroid-plexus': 928.3, 'lh_superiorparietal_GrayVol': 11331.0, 'rh_parahippocampal_GausCurv': 0.053, 'rh_parsopercularis_ThickAvg': 2.407, 'rh_lingual_NumVert': 4590.0, 'lh_posteriorcingulate_GrayVol': 2919.0, 'rh_pericalcarine_ThickAvg': 1.465, 'lh_entorhinal_CurvInd': 3.9, 'rh_superiortemporal_ThickAvg': 2.641, 'lh_inferiortemporal_SurfArea': 2324.0, 'lh_superiorfrontal_NumVert': 10981.0, 'rh_parsorbitalis_SurfArea': 797.0, 'lh_insula_NumVert': 3318.0, 'rh_caudalmiddlefrontal_NumVert': 3478.0, 'lh_superiortemporal_MeanCurv': 0.143, 'rh_temporalpole_FoldInd': 22.0, 'rh_superiorparietal_FoldInd': 335.0, 'lh_transversetemporal_MeanCurv': 0.116, 'rh_isthmuscingulate_ThickStd': 0.779, 'rh_parahippocampal_FoldInd': 16.0, 'rh_insula_ThickStd': 0.874, 'lh_temporalpole_GausCurv': 0.156, 'Right-Inf-Lat-Vent': 157.5, 'lh_lateraloccipital_GrayVol': 13207.0, 'rh_lateralorbitofrontal_GausCurv': 0.136, 'lh_precuneus_MeanCurv': 0.151, 'lh_supramarginal_GausCurv': 0.131, 'lh_cuneus_MeanCurv': 0.155, 'rh_inferiortemporal_ThickAvg': 2.55, 'rh_supramarginal_CurvInd': 15.1, 'rh_isthmuscingulate_SurfArea': 870.0, 'Right-Accumbens-area': 391.5, 'lh_superiorparietal_CurvInd': 28.1, 'rh_parsopercularis_GrayVol': 4084.0, 'rh_rostralmiddlefrontal_MeanCurv': 0.178, 'Left-Amygdala': 1656.0, 'rh_rostralanteriorcingulate_NumVert': 1010.0, 'rh_isthmuscingulate_MeanCurv': 0.163, 'lh_medialorbitofrontal_CurvInd': 10.5, 'lh_inferiorparietal_CurvInd': 42.0, 'lh_transversetemporal_GrayVol': 1205.0, 'rh_insula_NumVert': 3510.0, 'lh_supramarginal_SurfArea': 3849.0, 'rh_rostralanteriorcingulate_MeanCurv': 0.178, 'lh_postcentral_NumVert': 6867.0, 'lh_entorhinal_FoldInd': 33.0, 'lh_caudalanteriorcingulate_CurvInd': 2.0, 'lh_parsopercularis_GausCurv': 0.055, 'rh_superiorfrontal_MeanCurv': 0.156, 'rh_supramarginal_GausCurv': 0.066, 'lh_lateraloccipital_NumVert': 8785.0, 'rh_transversetemporal_CurvInd': 1.5, 'rh_posteriorcingulate_MeanCurv': 0.164, 'rh_parstriangularis_NumVert': 2114.0, 'lh_paracentral_CurvInd': 7.1, 'rh_parstriangularis_SurfArea': 1430.0, 'rh_superiortemporal_NumVert': 6381.0, 'lh_caudalanteriorcingulate_NumVert': 884.0, 'rh_frontalpole_ThickAvg': 2.891, 'rh_lingual_CurvInd': 24.3, 'lh_parahippocampal_NumVert': 1142.0, 'Right-Lateral-Ventricle': 10318.8, 'rh_lateralorbitofrontal_MeanCurv': 0.169, 'rh_inferiortemporal_MeanCurv': 0.165, 'lh_rostralanteriorcingulate_GausCurv': 0.071, 'rh_fusiform_ThickStd': 0.736, 'lh_bankssts_NumVert': 1484.0, 'rh_superiorfrontal_FoldInd': 220.0, 'rh_inferiorparietal_ThickStd': 0.533, 'lh_inferiortemporal_ThickAvg': 3.218, 'rh_pericalcarine_NumVert': 2138.0, 'rh_superiortemporal_GrayVol': 12551.0, 'rh_middletemporal_SurfArea': 3836.0, 'rh_precentral_GrayVol': 13283.0, 'lh_fusiform_FoldInd': 96.0, 'lh_parstriangularis_SurfArea': 1416.0, 'rh_precuneus_MeanCurv': 0.161, 'rh_lateralorbitofrontal_ThickStd': 0.647, 'rh_bankssts_GrayVol': 2248.0, 'rh_lateralorbitofrontal_SurfArea': 2608.0, 'lh_bankssts_GausCurv': 0.046, 'rh_entorhinal_ThickStd': 0.92, 'lh_bankssts_ThickStd': 0.445, 'rh_frontalpole_CurvInd': 2.2, 'lh_transversetemporal_GausCurv': 0.046, 'lh_inferiortemporal_FoldInd': 96.0, 'rh_rostralmiddlefrontal_NumVert': 8004.0, 'rh_superiorparietal_ThickStd': 0.467, 'lh_superiortemporal_NumVert': 6643.0, 'lh_inferiorparietal_SurfArea': 5551.0, 'lh_pericalcarine_ThickStd': 0.361, 'lh_caudalanteriorcingulate_ThickStd': 0.599, 'rh_temporalpole_GausCurv': 0.126, 'lh_insula_MeanCurv': 0.128, 'lh_inferiortemporal_ThickStd': 0.8, 'lh_precuneus_SurfArea': 3999.0, 'rh_supramarginal_FoldInd': 101.0, 'rh_isthmuscingulate_FoldInd': 30.0, 'lh_postcentral_MeanCurv': 0.136, 'Right-choroid-plexus': 879.0, 'lh_middletemporal_ThickStd': 0.722, 'lh_precuneus_GausCurv': 0.063, 'lh_paracentral_ThickStd': 0.543, 'lh_lingual_NumVert': 5119.0, 'Left-Pallidum': 1038.2, 'lh_caudalmiddlefrontal_CurvInd': 10.5, 'lh_paracentral_ThickAvg': 2.246, 'rh_frontalpole_SurfArea': 216.0, 'lh_lingual_ThickStd': 0.556, 'rh_transversetemporal_ThickStd': 0.35, 'lh_rostralmiddlefrontal_GrayVol': 13141.0, 'rh_superiorparietal_GausCurv': 0.095, 'lh_superiorfrontal_MeanCurv': 0.156, 'rh_precuneus_ThickStd': 0.605, 'rh_precuneus_GausCurv': 0.086, 'lh_caudalmiddlefrontal_SurfArea': 2728.0, 'Right-Hippocampus': 5254.4, 'lh_middletemporal_GausCurv': 0.094, 'rh_parstriangularis_MeanCurv': 0.162, 'rh_medialorbitofrontal_ThickStd': 0.763, 'lh_superiorparietal_ThickStd': 0.452, 'lh_frontalpole_ThickStd': 0.763, 'lh_parstriangularis_NumVert': 2100.0, 'lh_parsopercularis_ThickAvg': 2.442, 'lh_isthmuscingulate_FoldInd': 583.0, 'lh_precentral_ThickStd': 0.632, 'rh_parstriangularis_GrayVol': 3686.0, 'rh_parahippocampal_GrayVol': 2134.0, 'lh_cuneus_FoldInd': 46.0, 'rh_inferiorparietal_MeanCurv': 0.161, 'lh_parstriangularis_FoldInd': 40.0, 'TotalGrayVol': 648488.108401, 'lh_fusiform_ThickAvg': 2.878, 'lh_insula_ThickStd': 0.735, 'CortexVol': 459271.108401, 'rh_superiorparietal_NumVert': 9084.0, 'rh_bankssts_SurfArea': 992.0, 'Left-Cerebellum-Cortex': 66604.3, 'rh_fusiform_MeanCurv': 0.155, 'rh_parsorbitalis_FoldInd': 31.0, 'rh_rostralmiddlefrontal_SurfArea': 5427.0, 'lh_transversetemporal_ThickStd': 0.39, 'lh_precentral_CurvInd': 22.6, 'lh_medialorbitofrontal_FoldInd': 116.0, 'lh_superiorfrontal_GrayVol': 21827.0, 'rh_posteriorcingulate_CurvInd': 5.7, 'rh_inferiortemporal_FoldInd': 117.0, 'rh_paracentral_NumVert': 2674.0, 'lh_transversetemporal_ThickAvg': 2.055, 'rh_bankssts_MeanCurv': 0.121, 'rh_precentral_GausCurv': 0.071, 'lh_precentral_FoldInd': 149.0, 'rh_precentral_CurvInd': 23.4, 'lh_isthmuscingulate_ThickStd': 0.698, 'Left-Accumbens-area': 675.8, 'lh_precentral_GrayVol': 11902.0, 'rh_rostralanteriorcingulate_ThickAvg': 3.132, 'Left-Hippocampus': 4790.5, 'lh_precuneus_NumVert': 6143.0, 'lh_lateralorbitofrontal_GrayVol': 7099.0, 'rh_medialorbitofrontal_GrayVol': 4936.0, 'rh_entorhinal_NumVert': 538.0, 'lh_inferiorparietal_FoldInd': 426.0, 'lh_parahippocampal_ThickStd': 0.7, 'lh_temporalpole_GrayVol': 1740.0, 'rh_lingual_GrayVol': 7129.0, 'lh_rostralanteriorcingulate_GrayVol': 3081.0, 'Optic-Chiasm': 245.6, 'rh_lateraloccipital_FoldInd': 170.0, 'rh_parsorbitalis_NumVert': 1207.0, 'rh_lingual_ThickAvg': 2.174, 'eTIV': 1567520.748912, 'rh_middletemporal_FoldInd': 141.0, 'rh_parsopercularis_NumVert': 2226.0, 'lh_bankssts_FoldInd': 20.0, 'lh_medialorbitofrontal_MeanCurv': 0.16, 'lh_lateralorbitofrontal_ThickAvg': 2.441, 'rh_parsorbitalis_CurvInd': 4.7, 'lh_supramarginal_ThickStd': 0.513, 'lh_precentral_GausCurv': 0.071, 'rh_inferiortemporal_NumVert': 4429.0, 'lh_parstriangularis_GausCurv': 0.064, 'rh_parsopercularis_CurvInd': 5.8, 'lh_caudalmiddlefrontal_GrayVol': 6958.0, 'lh_inferiortemporal_MeanCurv': 0.162, 'rh_bankssts_CurvInd': 2.1, 'rh_bankssts_GausCurv': 0.035, 'rh_transversetemporal_MeanCurv': 0.138, 'rh_pericalcarine_FoldInd': 36.0, 'lh_supramarginal_ThickAvg': 2.458, 'lh_superiorparietal_FoldInd': 595.0, 'lh_caudalmiddlefrontal_MeanCurv': 0.152, 'rh_posteriorcingulate_GausCurv': 0.077, 'Left-non-WM-hypointensities': 0.0, 'rh_cuneus_GausCurv': 0.072, 'rh_caudalmiddlefrontal_FoldInd': 48.0, 'rh_temporalpole_CurvInd': 3.1, 'rh_frontalpole_FoldInd': 13.0, 'lh_cuneus_GrayVol': 3186.0, 'rh_supramarginal_SurfArea': 3656.0, 'lh_parstriangularis_ThickAvg': 2.215, 'lh_caudalanteriorcingulate_ThickAvg': 2.661, 'rh_entorhinal_SurfArea': 368.0, 'lh_bankssts_ThickAvg': 2.564, 'rh_fusiform_ThickAvg': 2.737, 'lh_parsorbitalis_GausCurv': 0.115, 'rh_caudalanteriorcingulate_GrayVol': 2787.0, 'rh_parahippocampal_ThickStd': 0.555, 'lh_supramarginal_GrayVol': 10313.0, 'rh_cuneus_GrayVol': 2987.0, 'lh_medialorbitofrontal_NumVert': 2528.0, 'lh_lateraloccipital_MeanCurv': 0.164, 'lh_parahippocampal_CurvInd': 2.6, 'lh_pericalcarine_GrayVol': 1810.0, 'rh_parsorbitalis_ThickStd': 0.591, 'lh_precentral_SurfArea': 4686.0, 'lh_rostralmiddlefrontal_MeanCurv': 0.184, 'lh_bankssts_MeanCurv': 0.142, 'lh_lingual_CurvInd': 18.1, 'Right-Amygdala': 1532.9, 'lh_bankssts_SurfArea': 1035.0, 'lh_medialorbitofrontal_GrayVol': 5190.0, 'lh_pericalcarine_CurvInd': 5.7, 'lh_frontalpole_SurfArea': 177.0, 'rh_lateraloccipital_GausCurv': 0.074, 'rh_temporalpole_ThickAvg': 3.06, 'lh_parsopercularis_FoldInd': 49.0, 'rh_posteriorcingulate_ThickAvg': 2.858, 'rh_paracentral_GrayVol': 4037.0, 'rh_pericalcarine_SurfArea': 1444.0, 'lh_isthmuscingulate_NumVert': 1349.0, 'lh_supramarginal_MeanCurv': 0.154, 'lh_pericalcarine_GausCurv': 0.067, 'lh_rostralanteriorcingulate_ThickStd': 0.735, 'rh_parstriangularis_ThickStd': 0.576, 'rh_parsopercularis_MeanCurv': 0.156, 'rh_posteriorcingulate_ThickStd': 0.709, 'lh_caudalanteriorcingulate_MeanCurv': 0.145, 'rh_caudalanteriorcingulate_MeanCurv': 0.155, 'rh_fusiform_CurvInd': 17.7, 'rh_medialorbitofrontal_CurvInd': 6.7, 'lh_caudalmiddlefrontal_ThickStd': 0.49, 'rh_insula_MeanCurv': 0.134, 'lh_inferiorparietal_ThickStd': 0.519, 'lh_caudalmiddlefrontal_GausCurv': 0.062, 'rh_caudalanteriorcingulate_ThickAvg': 2.715, 'lh_superiorparietal_NumVert': 8246.0, 'Left-Caudate': 3253.5, 'lh_lateraloccipital_SurfArea': 5412.0, 'rh_bankssts_ThickStd': 0.402, 'rh_isthmuscingulate_GrayVol': 2421.0, 'lh_precentral_MeanCurv': 0.143, 'lh_rostralmiddlefrontal_NumVert': 7278.0, 'lh_superiorfrontal_CurvInd': 37.4, 'lh_transversetemporal_NumVert': 953.0, 'rh_precuneus_SurfArea': 4182.0, 'lh_parsopercularis_NumVert': 2820.0, '4th-Ventricle': 2402.3, 'rh_cuneus_CurvInd': 7.0, 'lh_isthmuscingulate_GausCurv': 0.741, 'lh_superiortemporal_FoldInd': 158.0, 'lh_supramarginal_CurvInd': 13.1, 'lh_pericalcarine_NumVert': 2080.0, 'lh_caudalanteriorcingulate_SurfArea': 559.0, 'rh_caudalmiddlefrontal_CurvInd': 7.6, 'lh_bankssts_GrayVol': 2648.0, 'rh_superiortemporal_FoldInd': 94.0, 'lh_lingual_GausCurv': 0.087, 'lh_isthmuscingulate_CurvInd': 5.7, 'lh_entorhinal_NumVert': 687.0, 'rh_inferiorparietal_GrayVol': 14855.0, 'rh_precuneus_NumVert': 6272.0, 'lh_posteriorcingulate_MeanCurv': 0.159, 'lh_pericalcarine_SurfArea': 1343.0, 'rh_superiorparietal_CurvInd': 23.9, 'rh_superiorparietal_GrayVol': 12036.0, 'rh_rostralmiddlefrontal_CurvInd': 35.1, 'rh_bankssts_FoldInd': 11.0, 'rh_frontalpole_GausCurv': 0.147, 'lh_precuneus_GrayVol': 9283.0, 'lh_parstriangularis_CurvInd': 5.1, 'rh_paracentral_ThickAvg': 2.256, 'lh_superiorparietal_MeanCurv': 0.148, 'rh_isthmuscingulate_CurvInd': 3.8, 'rh_precuneus_ThickAvg': 2.26, 'lh_isthmuscingulate_GrayVol': 2429.0, 'lh_temporalpole_FoldInd': 31.0, 'rh_frontalpole_ThickStd': 0.605, 'lh_parahippocampal_FoldInd': 15.0, 'rh_middletemporal_MeanCurv': 0.165, 'lh_paracentral_GrayVol': 3499.0, 'Brain-Stem': 23667.8, 'Right-Cerebellum-White-Matter': 18547.1, 'lh_insula_FoldInd': 64.0, 'lh_frontalpole_MeanCurv': 0.24, 'lh_superiortemporal_GrayVol': 12838.0, 'rh_superiorfrontal_GrayVol': 21873.0, 'rh_postcentral_NumVert': 6555.0, 'lh_postcentral_FoldInd': 137.0, 'lh_fusiform_CurvInd': 15.8, 'lh_pericalcarine_FoldInd': 37.0, 'lh_temporalpole_SurfArea': 475.0, 'rh_fusiform_NumVert': 4999.0, 'rh_temporalpole_MeanCurv': 0.162, 'rh_insula_FoldInd': 82.0, 'rh_parsopercularis_FoldInd': 43.0, 'lh_parstriangularis_MeanCurv': 0.156, 'rh_supramarginal_NumVert': 5412.0, 'rh_middletemporal_GausCurv': 0.082, 'lh_rostralmiddlefrontal_ThickStd': 0.644, 'lh_parsopercularis_SurfArea': 1949.0, 'Left-Inf-Lat-Vent': 662.2, 'lh_transversetemporal_FoldInd': 12.0, 'rh_parsopercularis_GausCurv': 0.062, 'lh_supramarginal_NumVert': 5731.0, 'lh_insula_SurfArea': 2138.0, 'rh_lateraloccipital_CurvInd': 23.8, 'lh_caudalanteriorcingulate_FoldInd': 17.0, 'Left-Lateral-Ventricle': 12372.7, 'lh_cuneus_ThickAvg': 1.896, 'lh_cuneus_GausCurv': 0.064, 'lh_fusiform_GausCurv': 0.082, 'lh_paracentral_NumVert': 2351.0, 'lh_fusiform_ThickStd': 0.819, 'rh_pericalcarine_MeanCurv': 0.165, 'rh_parahippocampal_SurfArea': 743.0, 'rh_paracentral_CurvInd': 14.1, 'lh_inferiorparietal_GausCurv': 0.148, 'lh_caudalanteriorcingulate_GrayVol': 1552.0, 'lh_parahippocampal_MeanCurv': 0.128, 'lh_lateralorbitofrontal_FoldInd': 99.0, 'lh_temporalpole_CurvInd': 4.8, 'rh_medialorbitofrontal_SurfArea': 1634.0, 'non-WM-hypointensities': 19.5, 'rh_caudalmiddlefrontal_GrayVol': 6337.0, 'rh_lateraloccipital_SurfArea': 4810.0, 'rh_superiorparietal_MeanCurv': 0.146, 'lh_temporalpole_NumVert': 709.0, 'rh_cuneus_FoldInd': 47.0, 'rh_lateraloccipital_NumVert': 7588.0, 'rh_parsopercularis_SurfArea': 1533.0, 'CC_Anterior': 831.3, 'lh_lateralorbitofrontal_SurfArea': 2514.0, 'lh_paracentral_GausCurv': 0.119, 'lh_isthmuscingulate_MeanCurv': 0.162, 'lh_posteriorcingulate_FoldInd': 37.0, 'rh_inferiortemporal_GausCurv': 0.098, 'rh_supramarginal_MeanCurv': 0.149, 'lh_caudalmiddlefrontal_FoldInd': 67.0, 'lh_isthmuscingulate_ThickAvg': 2.693, 'rh_lateralorbitofrontal_ThickAvg': 2.507, 'lh_paracentral_FoldInd': 124.0, 'CSF': 1548.6, 'lh_postcentral_GausCurv': 0.069, 'rh_superiortemporal_SurfArea': 4200.0, 'lh_postcentral_ThickAvg': 2.013, 'rh_precentral_ThickStd': 0.561, 'lh_medialorbitofrontal_ThickStd': 0.988, 'rh_pericalcarine_GrayVol': 2098.0, 'rh_temporalpole_NumVert': 635.0, 'rh_paracentral_GausCurv': 0.102, 'rh_supramarginal_ThickStd': 0.486, 'lh_lingual_ThickAvg': 1.932, 'rh_frontalpole_NumVert': 328.0, 'Left-WM-hypointensities': 0.0, 'rh_fusiform_GausCurv': 0.08, 'lh_postcentral_SurfArea': 4324.0, 'rh_rostralanteriorcingulate_GausCurv': 0.099, 'rh_caudalanteriorcingulate_NumVert': 1437.0, 'rh_medialorbitofrontal_NumVert': 2353.0, 'lh_superiorfrontal_FoldInd': 255.0, 'lh_middletemporal_GrayVol': 10532.0, 'lh_lingual_SurfArea': 3232.0, 'rh_postcentral_MeanCurv': 0.146, 'rh_pericalcarine_GausCurv': 0.075, 'lh_parsopercularis_ThickStd': 0.514, 'rh_precentral_SurfArea': 4977.0, 'rh_rostralanteriorcingulate_SurfArea': 684.0, 'rh_precuneus_GrayVol': 10117.0, 'lh_superiorfrontal_GausCurv': 0.075, 'lh_lingual_GrayVol': 6726.0, 'rh_caudalmiddlefrontal_MeanCurv': 0.143, 'lh_inferiorparietal_NumVert': 8988.0, 'rh_insula_GrayVol': 6894.0, 'lh_precuneus_CurvInd': 16.4, 'lh_entorhinal_ThickStd': 0.668, 'lh_rostralanteriorcingulate_NumVert': 1586.0, 'Right-Caudate': 3049.7, 'rh_cuneus_SurfArea': 1479.0, 'rh_posteriorcingulate_FoldInd': 41.0, 'rh_lingual_SurfArea': 2999.0, 'rh_parahippocampal_ThickAvg': 2.607, 'lh_temporalpole_ThickStd': 0.69, 'rh_medialorbitofrontal_FoldInd': 59.0, 'lh_postcentral_GrayVol': 9871.0, 'lh_middletemporal_NumVert': 3885.0, 'rh_transversetemporal_SurfArea': 363.0, 'rh_inferiortemporal_GrayVol': 8788.0, 'lh_parsopercularis_CurvInd': 6.3, 'rh_postcentral_GausCurv': 0.097, 'lh_isthmuscingulate_SurfArea': 874.0, 'lh_precuneus_FoldInd': 105.0, 'lh_frontalpole_GrayVol': 591.0, 'lh_entorhinal_GrayVol': 2628.0, 'lh_postcentral_CurvInd': 18.7, 'lh_paracentral_MeanCurv': 0.142, 'lh_rostralanteriorcingulate_FoldInd': 32.0, 'Left-Cerebellum-White-Matter': 16210.9, 'lh_lateraloccipital_ThickAvg': 2.245, 'rh_parahippocampal_MeanCurv': 0.125, 'lh_superiortemporal_SurfArea': 4371.0, 'rh_insula_SurfArea': 2298.0, 'rh_inferiorparietal_FoldInd': 193.0, 'lh_frontalpole_CurvInd': 1.6, 'rh_cuneus_MeanCurv': 0.174, 'lh_lateraloccipital_CurvInd': 29.4, 'lh_parsorbitalis_ThickStd': 0.547, 'lh_parsopercularis_MeanCurv': 0.157, 'lh_parahippocampal_GrayVol': 2553.0, 'lh_pericalcarine_MeanCurv': 0.163, 'lh_middletemporal_MeanCurv': 0.173, 'Right-WM-hypointensities': 0.0, 'rh_middletemporal_NumVert': 5716.0, 'rh_lateralorbitofrontal_GrayVol': 7273.0, 'rh_pericalcarine_ThickStd': 0.375, 'lh_cuneus_CurvInd': 6.7, 'lh_insula_GausCurv': 0.071, 'lh_posteriorcingulate_GausCurv': 0.082, 'lh_entorhinal_ThickAvg': 3.432, 'lh_posteriorcingulate_ThickStd': 0.561, 'lh_rostralmiddlefrontal_GausCurv': 0.108, 'lh_lateraloccipital_ThickStd': 0.657, 'lh_lateraloccipital_GausCurv': 0.084, 'Right-Putamen': 4788.6, 'Right-VentralDC': 4043.4, 'lh_superiorfrontal_ThickStd': 0.559, 'rh_precentral_MeanCurv': 0.148, 'rh_rostralmiddlefrontal_GausCurv': 0.098, 'rh_lateraloccipital_ThickAvg': 1.996, 'rh_frontalpole_GrayVol': 938.0, 'lh_paracentral_SurfArea': 1434.0, 'rh_postcentral_GrayVol': 9267.0, 'lh_entorhinal_SurfArea': 471.0, 'rh_temporalpole_GrayVol': 1662.0, 'lh_lateralorbitofrontal_MeanCurv': 0.161, 'lh_rostralanteriorcingulate_ThickAvg': 2.506, 'lh_rostralanteriorcingulate_CurvInd': 4.7, 'lh_parsorbitalis_FoldInd': 32.0, 'lh_parsorbitalis_NumVert': 785.0, 'rh_parsorbitalis_GrayVol': 2413.0, 'rh_paracentral_MeanCurv': 0.154, 'lh_middletemporal_SurfArea': 2734.0, 'rh_middletemporal_GrayVol': 13245.0, 'lh_posteriorcingulate_NumVert': 1470.0, 'lh_insula_ThickAvg': 3.057, 'Right-vessel': 52.7, 'Right-Cerebellum-Cortex': 64941.2, 'lh_parsorbitalis_MeanCurv': 0.192, 'rh_fusiform_SurfArea': 3313.0, 'rh_paracentral_ThickStd': 0.481, 'lh_parsorbitalis_CurvInd': 3.7, 'lh_posteriorcingulate_CurvInd': 5.0, 'rh_insula_GausCurv': 0.116, 'rh_superiorparietal_SurfArea': 5703.0, 'lh_postcentral_ThickStd': 0.608, 'lh_precuneus_ThickAvg': 2.236, 'rh_parahippocampal_NumVert': 1161.0, 'Right-Pallidum': 1266.3, 'lh_insula_GrayVol': 6459.0, 'rh_paracentral_SurfArea': 1671.0, 'lh_inferiortemporal_GausCurv': 0.096, 'rh_isthmuscingulate_GausCurv': 0.085, 'lh_entorhinal_GausCurv': 0.148, 'rh_precuneus_FoldInd': 496.0, 'lh_posteriorcingulate_ThickAvg': 2.765, 'rh_superiorfrontal_CurvInd': 32.3, 'rh_superiortemporal_GausCurv': 0.057, 'rh_middletemporal_ThickStd': 0.632, 'rh_lateralorbitofrontal_NumVert': 4005.0, 'Right-Thalamus-Proper': 6906.4, 'rh_medialorbitofrontal_MeanCurv': 0.163, 'rh_frontalpole_MeanCurv': 0.217, 'rh_lateraloccipital_ThickStd': 0.612, 'rh_superiortemporal_CurvInd': 14.7, 'rh_posteriorcingulate_NumVert': 1833.0, 'rh_supramarginal_GrayVol': 9573.0, 'rh_caudalmiddlefrontal_SurfArea': 2340.0, 'rh_inferiorparietal_CurvInd': 25.5, 'CC_Central': 377.0, 'rh_caudalanteriorcingulate_SurfArea': 949.0, 'rh_posteriorcingulate_GrayVol': 3598.0, 'rh_paracentral_FoldInd': 83.0, 'lh_precentral_NumVert': 7390.0, 'CC_Posterior': 880.7, 'rh_lateraloccipital_GrayVol': 10684.0, 'lh_superiorfrontal_ThickAvg': 2.48, 'lh_superiorparietal_ThickAvg': 2.034, 'rh_precentral_NumVert': 7614.0, 'lh_insula_CurvInd': 8.8, 'lh_caudalmiddlefrontal_NumVert': 4064.0, 'rh_transversetemporal_FoldInd': 8.0, 'rh_superiortemporal_MeanCurv': 0.141, 'rh_precentral_FoldInd': 153.0, 'rh_transversetemporal_GausCurv': 0.055, 'rh_inferiortemporal_SurfArea': 2943.0, 'lh_parahippocampal_ThickAvg': 2.948, 'lh_caudalmiddlefrontal_ThickAvg': 2.331, 'rh_lingual_FoldInd': 137.0, 'rh_inferiorparietal_ThickAvg': 2.252, 'rh_lateralorbitofrontal_CurvInd': 29.2, 'rh_lingual_ThickStd': 0.692, 'rh_rostralanteriorcingulate_ThickStd': 0.606, 'lh_precentral_ThickAvg': 2.291, 'lh_entorhinal_MeanCurv': 0.179, 'rh_parsorbitalis_MeanCurv': 0.189, 'lh_parsorbitalis_SurfArea': 518.0, 'rh_posteriorcingulate_SurfArea': 1173.0, 'rh_postcentral_ThickStd': 0.604, 'lh_frontalpole_ThickAvg': 2.286, 'rh_isthmuscingulate_NumVert': 1318.0, 'rh_caudalmiddlefrontal_ThickStd': 0.544, 'rh_cuneus_ThickAvg': 1.818, 'rh_cuneus_NumVert': 2338.0, 'rh_temporalpole_SurfArea': 394.0, 'lh_rostralmiddlefrontal_FoldInd': 265.0, 'rh_postcentral_CurvInd': 18.4, 'lh_parsorbitalis_ThickAvg': 2.158, 'rh_parstriangularis_GausCurv': 0.064, 'lh_inferiorparietal_MeanCurv': 0.156, 'rh_entorhinal_FoldInd': 13.0, 'lh_cuneus_NumVert': 2451.0, 'lh_parstriangularis_ThickStd': 0.446, 'lh_rostralanteriorcingulate_MeanCurv': 0.149, 'lh_posteriorcingulate_SurfArea': 972.0, 'rh_parsorbitalis_GausCurv': 0.092, 'lh_superiorparietal_GausCurv': 0.092, 'rh_caudalanteriorcingulate_ThickStd': 0.673, 'rh_rostralanteriorcingulate_CurvInd': 3.6, 'rh_isthmuscingulate_ThickAvg': 2.534}, 'entry_type': 'freesurfer', 'name': 'ms534-mse65-002-AX_T1_3D_IRSPGR_te_1.6', 'subject_id': 'mse65', 'check_masks': ['mse65/masks/ms534-mse65-002-AX_T1_3D_IRSPGR_te_1.6/t1.nii.gz', 'mse65/masks/ms534-mse65-002-AX_T1_3D_IRSPGR_te_1.6/segmentation.nii.gz']}\n",
      "\n",
      "\n",
      "{'_id': ObjectId('57a6f8b9142c116b6681610f'), 'metrics': {'CSF': 284432.5, 'DeepGray': 44303.0, 'Cerebellum': 179453.3, 'WM': 440382.1, 'BrainStem': 23811.3, 'GM': 520429.4}, 'entry_type': 'antsCT', 'name': 'ms534-mse65-002-AX_T1_3D_IRSPGR_te_1.6', 'subject_id': 'mse65', 'check_masks': ['mse65/nii/ms534-mse65-002-AX_T1_3D_IRSPGR_te_1.6.nii.gz', 'mse65/antsCT/ms534-mse65-002-AX_T1_3D_IRSPGR_te_1.6/BrainSegmentation.nii.gz']}\n",
      "\n",
      "\n",
      "{'_id': ObjectId('57b03344142c1137a3b4de12'), 'surfaces': [{'csv': 'mse65/mindboggle/ms534-mse65-002-AX_T1_3D_IRSPGR_te_1.6/tables/left_cortical_surface/vertices.csv', 'vtk': 'mse65/mindboggle/ms534-mse65-002-AX_T1_3D_IRSPGR_te_1.6/shapes/left_cortical_surface/freesurfer_curvature.vtk', 'name': 'left'}, {'csv': 'mse65/mindboggle/ms534-mse65-002-AX_T1_3D_IRSPGR_te_1.6/tables/right_cortical_surface/vertices.csv', 'vtk': 'mse65/mindboggle/ms534-mse65-002-AX_T1_3D_IRSPGR_te_1.6/shapes/right_cortical_surface/freesurfer_curvature.vtk', 'name': 'right'}], 'metrics': {'ctx-lh-pericalcarine_thickness': 3.187, 'ctx-rh-caudalmiddlefrontal_volume': 5728.710999999999, 'ctx-lh-lateraloccipital_volume': 11096.191, 'ctx-rh-precuneus_volume': 10233.984, 'Right-Amygdala_volume': 704.883, 'ctx-rh-lateraloccipital_thickness': 3.673, 'ctx-rh-precuneus_thickness': 4.341, 'ctx-lh-medialorbitofrontal_thickness': 4.9319999999999995, 'ctx-lh-medialorbitofrontal_volume': 5169.727, 'ctx-rh-fusiform_volume': 10362.305, 'Right-Pallidum_volume': 1382.52, 'ctx-rh-middletemporal_volume': 16201.758, 'ctx-rh-inferiortemporal_thickness': 5.497000000000001, 'ctx-rh-rostralmiddlefrontal_volume': 10894.043, 'Right-Cerebellum-Cortex_volume': 65079.492, 'ctx-rh-fusiform_thickness': 5.684, 'Left-Lateral-Ventricle_volume': 10941.503999999999, 'ctx-rh-paracentral_volume': 4476.27, 'ctx-rh-parsorbitalis_volume': 2768.555, 'ctx-rh-superiorfrontal_volume': 26168.555, 'ctx-lh-inferiorparietal_thickness': 4.231, 'Left-Thalamus-Proper_volume': 7682.52, 'ctx-lh-precuneus_volume': 9807.715, 'ctx-rh-cuneus_volume': 5494.043000000001, 'ctx-rh-entorhinal_thickness': 4.88, 'ctx-rh-postcentral_volume': 9282.129, 'ctx-lh-parsorbitalis_thickness': 3.484, 'ctx-rh-middletemporal_thickness': 5.329, 'ctx-rh-inferiorparietal_volume': 11874.023000000001, 'ctx-lh-precentral_thickness': 3.795, 'Left-vessel_volume': 0.879, 'ctx-lh-lingual_thickness': 4.354, 'ctx-rh-parsorbitalis_thickness': 4.36, 'ctx-rh-isthmuscingulate_thickness': 5.4110000000000005, 'ctx-lh-supramarginal_thickness': 4.063, 'Right-Hippocampus_volume': 3703.711, 'Right-Accumbens-area_volume': 252.24599999999998, 'ctx-rh-rostralanteriorcingulate_thickness': 5.707999999999999, 'Right-Putamen_volume': 3692.285, 'Left-Caudate_volume': 2872.2659999999996, 'ctx-lh-parahippocampal_volume': 2361.621, 'ctx-lh-parahippocampal_thickness': 5.082, 'ctx-lh-isthmuscingulate_volume': 2655.176, 'ctx-lh-parsopercularis_volume': 4526.367, 'ctx-lh-superiorfrontal_thickness': 4.228, 'ctx-lh-paracentral_thickness': 4.041, 'ctx-rh-parstriangularis_volume': 5442.188, 'ctx-lh-posteriorcingulate_volume': 4252.148, 'ctx-lh-isthmuscingulate_thickness': 5.476, 'ctx-rh-posteriorcingulate_thickness': 5.891, 'ctx-rh-pericalcarine_volume': 2176.172, 'ctx-rh-posteriorcingulate_volume': 3933.105, 'ctx-lh-superiortemporal_volume': 19001.953, 'ctx-rh-medialorbitofrontal_thickness': 4.77, 'ctx-lh-lateralorbitofrontal_volume': 8617.676, 'ctx-lh-caudalmiddlefrontal_volume': 6982.031, 'Left-Accumbens-area_volume': 261.035, 'Right-Cerebellum-White-Matter_volume': 17946.387, 'ctx-lh-postcentral_thickness': 3.364, 'ctx-rh-superiortemporal_thickness': 4.506, 'ctx-lh-transversetemporal_volume': 1313.965, 'ctx-lh-cuneus_volume': 4567.6759999999995, 'ctx-lh-middletemporal_volume': 17126.367, 'ctx-lh-inferiortemporal_volume': 13281.152, 'ctx-rh-cuneus_thickness': 3.5269999999999997, 'ctx-rh-inferiorparietal_thickness': 4.386, 'ctx-lh-parsorbitalis_volume': 1714.746, 'Left-Cerebellum-White-Matter_volume': 15511.816, 'ctx-rh-rostralmiddlefrontal_thickness': 4.257, 'Left-Amygdala_volume': 865.7230000000001, 'ctx-lh-parsopercularis_thickness': 4.126, 'ctx-lh-lateraloccipital_thickness': 4.138, 'ctx-lh-superiorparietal_thickness': 3.3710000000000004, 'ctx-rh-lingual_thickness': 4.519, 'ctx-rh-lateraloccipital_volume': 11975.098, 'ctx-rh-caudalanteriorcingulate_volume': 2589.258, 'ctx-rh-precentral_volume': 12537.598, 'ctx-lh-paracentral_volume': 5069.531, 'ctx-lh-insula_thickness': 5.341, 'Right-Thalamus-Proper_volume': 7690.43, 'ctx-rh-caudalmiddlefrontal_thickness': 4.319, 'ctx-lh-insula_volume': 6198.9259999999995, 'ctx-rh-insula_volume': 6824.706999999999, 'ctx-rh-superiortemporal_volume': 15371.191, 'Brain-Stem_volume': 18591.504, 'Right-Lateral-Ventricle_volume': 8799.609, 'ctx-lh-entorhinal_thickness': 5.4670000000000005, 'ctx-rh-isthmuscingulate_volume': 2375.6839999999997, 'ctx-lh-fusiform_volume': 12298.535, 'Left-Putamen_volume': 4100.977, 'ctx-rh-postcentral_thickness': 3.2460000000000004, 'ctx-rh-parstriangularis_thickness': 4.128, 'ctx-lh-precentral_volume': 11502.246000000001, 'ctx-lh-rostralanteriorcingulate_volume': 5503.710999999999, 'ctx-lh-lingual_volume': 8151.855, 'ctx-lh-caudalanteriorcingulate_thickness': 4.678999999999999, 'Left-Pallidum_volume': 1254.1989999999998, 'ctx-lh-superiortemporal_thickness': 5.0089999999999995, 'ctx-rh-parahippocampal_volume': 2238.574, 'ctx-lh-fusiform_thickness': 7.1370000000000005, 'Right-VentralDC_volume': 5320.898, 'ctx-lh-parstriangularis_thickness': 3.697, 'ctx-lh-inferiortemporal_thickness': 6.973, 'ctx-lh-superiorparietal_volume': 8857.617, 'ctx-lh-postcentral_volume': 10578.516000000001, 'ctx-lh-transversetemporal_thickness': 3.47, 'ctx-lh-lateralorbitofrontal_thickness': 4.117, 'ctx-rh-caudalanteriorcingulate_thickness': 5.454, 'ctx-rh-parahippocampal_thickness': 4.9030000000000005, 'ctx-rh-supramarginal_thickness': 3.924, 'ctx-rh-rostralanteriorcingulate_volume': 3359.18, 'ctx-lh-precuneus_thickness': 4.409, 'ctx-lh-rostralanteriorcingulate_thickness': 5.252999999999999, 'ctx-lh-inferiorparietal_volume': 14803.418, 'ctx-rh-entorhinal_volume': 2053.125, 'ctx-rh-parsopercularis_volume': 5326.172, 'ctx-lh-caudalmiddlefrontal_thickness': 4.137, 'ctx-rh-parsopercularis_thickness': 4.1819999999999995, 'ctx-rh-supramarginal_volume': 10792.969, 'ctx-rh-medialorbitofrontal_volume': 4725.879, 'ctx-lh-posteriorcingulate_thickness': 5.334, 'ctx-lh-parstriangularis_volume': 5329.688, 'ctx-rh-precentral_thickness': 3.99, 'Right-Caudate_volume': 3130.664, 'ctx-rh-lateralorbitofrontal_thickness': 4.237, 'ctx-lh-rostralmiddlefrontal_thickness': 3.7880000000000003, 'CSF_volume': 1054.688, 'ctx-rh-transversetemporal_thickness': 3.2910000000000004, 'ctx-rh-superiorparietal_thickness': 3.2560000000000002, 'ctx-rh-transversetemporal_volume': 837.5980000000001, 'Left-Inf-Lat-Vent_volume': 6.152, 'ctx-lh-supramarginal_volume': 10126.758, 'ctx-lh-middletemporal_thickness': 6.199, 'ctx-rh-pericalcarine_thickness': 3.154, 'Left-VentralDC_volume': 5320.02, 'Left-Cerebellum-Cortex_volume': 66621.973, 'ctx-rh-insula_thickness': 5.332999999999999, 'ctx-lh-entorhinal_volume': 2844.1409999999996, 'ctx-rh-inferiortemporal_volume': 13254.785, 'ctx-rh-superiorparietal_volume': 8725.780999999999, 'ctx-lh-rostralmiddlefrontal_volume': 9184.57, 'ctx-lh-superiorfrontal_volume': 22950.0, 'ctx-rh-paracentral_thickness': 4.0489999999999995, 'ctx-rh-lingual_volume': 9000.0, 'ctx-lh-caudalanteriorcingulate_volume': 3128.906, 'Left-Hippocampus_volume': 3424.219, 'ctx-rh-lateralorbitofrontal_volume': 8534.18, 'ctx-lh-cuneus_thickness': 3.313, 'Right-Inf-Lat-Vent_volume': 101.95299999999999, 'ctx-lh-pericalcarine_volume': 1879.102, 'ctx-rh-superiorfrontal_thickness': 4.474}, 'entry_type': 'mindboggle', 'name': 'ms534-mse65-002-AX_T1_3D_IRSPGR_te_1.6', 'subject_id': 'mse65', 'check_masks': ['mse65/nii/ms534-mse65-002-AX_T1_3D_IRSPGR_te_1.6.nii.gz', 'mse65/mindboggle/ms534-mse65-002-AX_T1_3D_IRSPGR_te_1.6/labels/freesurfer_wmparc_labels_in_hybrid_graywhite.nii.gz', 'mse65/mindboggle/ms534-mse65-002-AX_T1_3D_IRSPGR_te_1.6/labels/ants_labels_in_hybrid_graywhite.nii.gz']}\n",
      "\n",
      "\n",
      "{'_id': 'rsCwqJwwChNLxCoZX', 'Study Tag': ['EPIC', 'VEO', 'Genentech', 'VEO_flair'], 'metrics': {'DCM_StudyDate': 20100617}, 'msid': 'ms0534', 'entry_type': 'demographic', 'subject_id': 'mse65', 'status': ['nii', 'masks', 'antsCT', 'mindboggle', 'dura', 'alignment', 'lst']}\n",
      "\n",
      "\n",
      "{'contours': [], '_id': ObjectId('57b03344142c1137a3b4de13'), 'quality_check': {'user_assign': ['anisha'], 'QC': '3', 'notes_QC': 'edited in freeview'}, 'name': 'ms534-mse65-002-AX_T1_3D_IRSPGR_te_1.6', 'entry_type': 'dura', 'painters': [], 'subject_id': 'mse65', 'check_masks': ['mse65/dura/ms534-mse65-002-AX_T1_3D_IRSPGR_te_1.6/ms534-mse65-002-AX_T1_3D_IRSPGR_te_1.6.nii.gz', 'mse65/dura/ms534-mse65-002-AX_T1_3D_IRSPGR_te_1.6/freesurfer_wmparc_labels_in_hybrid_graywhite.nii.gz'], 'checkedAt': datetime.datetime(2016, 9, 22, 20, 40, 58, 885000), 'checkedBy': 'tristan'}\n",
      "\n",
      "\n",
      "{'subject_id': 'mse65', '_id': ObjectId('57ff4da0142c11482e6e3dc9'), 'check_masks': ['mse65/alignment/ms534-mse65-002-AX_T1_3D_IRSPGR_te_1.6.nii.gz', 'mse65/alignment/ms534-mse65-003-FRFSE-000.nii.gz', 'mse65/alignment/ms534-mse65-003-FRFSE-001.nii.gz', 'mse65/alignment/ms534-mse65-011-T2_FLAIR_AXIAL_pos_Gad.nii.gz', 'mse65/alignment/ms534-mse65-012-AX_T1_post_gad.nii.gz'], 'entry_type': 'align', 'name': 'ms534-mse65-002-AX_T1_3D_IRSPGR_te_1.6'}\n",
      "\n",
      "\n",
      "{'contours': [], 'quality_check': {'notes_QC': '', 'QC': '3'}, 'loggedPoints': [{'note': 'FN', 'uuid': '7f1e95a0-6084-d4e3-e971-e642031cfd2e', 'world_coor': {'x': 6.56236654637345, 'z': 51.20709991455078, 'y': 64.68385947029951}, 'checkedBy': 'ssacco', 'matrix_coor': {'x': 136.99718837863168, 'z': 45, 'y': 88.29240862230553}}, {'note': 'FN', 'uuid': '01c15215-751e-58b9-dc61-7400e75bd416', 'world_coor': {'x': -45.1714666307587, 'z': 37.20709991455078, 'y': -7.5185772682196905}, 'checkedBy': 'ssacco', 'matrix_coor': {'x': 81.81443298969072, 'z': 59, 'y': 165.30834114339268}}, {'note': 'FN', 'uuid': '88ecaf29-9763-83a0-1aed-70214d5d3660', 'world_coor': {'x': -35.27455941426385, 'z': 33.20709991455078, 'y': 5.302416171330453}, 'checkedBy': 'ssacco', 'matrix_coor': {'x': 92.37113402061856, 'z': 63, 'y': 151.63261480787253}}, {'note': 'FP', 'uuid': '0b534374-02c6-e792-5d0a-6dec8bbdcc29', 'world_coor': {'x': -6.483556602642482, 'z': -4.792900085449219, 'y': 0.1290328536172325}, 'checkedBy': 'ssacco', 'matrix_coor': {'x': 123.08153701968135, 'z': 101, 'y': 157.15089034676663}}, {'note': 'FP', 'uuid': 'b54bd5a9-cd87-de31-d386-2198782b62df', 'world_coor': {'x': -2.2098921227924295, 'z': 30.20709991455078, 'y': 17.223690773017417}, 'checkedBy': 'ssacco', 'matrix_coor': {'x': 127.64011246485474, 'z': 66, 'y': 138.9165885660731}}, {'note': 'FP', 'uuid': '4e7e6532-7aed-e315-efc1-d23f50f37642', 'world_coor': {'x': -37.073997089990186, 'z': 10.207099914550781, 'y': -7.068717849288113}, 'checkedBy': 'ssacco', 'matrix_coor': {'x': 90.45173383317713, 'z': 86, 'y': 164.82849109653233}}, {'note': 'FP', 'uuid': 'd6cbbfe7-3c18-0a68-a392-3e73c28e6a48', 'world_coor': {'x': 17.02635007264826, 'z': 21.20709991455078, 'y': 3.9496698904587024}, 'checkedBy': 'ssacco', 'matrix_coor': {'x': 148.15877080665814, 'z': 75, 'y': 153.07554417413573}}], 'name': 'ms534-mse65-011-T2_FLAIR_AXIAL_pos_Gad', 'check_masks': ['mse65/alignment/ms534-mse65-011-T2_FLAIR_AXIAL_pos_Gad.nii.gz', 'mse65/lst/lpa/ples_lpa_mms534-mse65-011-T2_FLAIR_AXIAL_pos_Gad_index.nii.gz', 'mse65/lst/lga/ms534-mse65-002-AX_T1_3D_IRSPGR_te_1.6/ples_lga_0.3_rmms534-mse65-011-T2_FLAIR_AXIAL_pos_Gad_index.nii.gz'], '_id': ObjectId('5802a6ed142c1161c0eebd8d'), 'metrics': {'total_lesion_volume': 21395.4, 'number_of_lesions': 29, 'max_lesion_size': 10766.6}, 'entry_type': 'lst', 'painters': [{'paintValue': 0, 'world_coor': [{'x': 27.190002441406254, 'z': 12.207099914550781, 'y': -4.417007446289052}, {'x': 28.127502441406254, 'z': 12.207099914550781, 'y': -4.417007446289052}, {'x': 28.127502441406254, 'z': 12.207099914550781, 'y': -5.354507446289052}, {'x': 28.127502441406254, 'z': 12.207099914550781, 'y': -6.292007446289052}, {'x': 27.190002441406254, 'z': 12.207099914550781, 'y': -3.479507446289052}, {'x': 27.190002441406254, 'z': 12.207099914550781, 'y': -2.542007446289052}, {'x': 28.127502441406254, 'z': 12.207099914550781, 'y': -2.542007446289052}, {'x': 28.127502441406254, 'z': 12.207099914550781, 'y': -3.479507446289052}, {'x': 28.127502441406254, 'z': 12.207099914550781, 'y': -0.6670074462890518}, {'x': 28.127502441406254, 'z': 12.207099914550781, 'y': 0.27049255371094816}, {'x': 27.190002441406254, 'z': 12.207099914550781, 'y': -1.6045074462890518}], 'checkedBy': 'ssacco', 'matrix_coor': [{'old_val': 28, 'x': 159, 'z': 84, 'y': 162}, {'old_val': 28, 'x': 160, 'z': 84, 'y': 162}, {'old_val': 28, 'x': 160, 'z': 84, 'y': 163}, {'old_val': 28, 'x': 160, 'z': 84, 'y': 164}, {'old_val': 28, 'x': 159, 'z': 84, 'y': 161}, {'old_val': 28, 'x': 159, 'z': 84, 'y': 160}, {'old_val': 28, 'x': 160, 'z': 84, 'y': 160}, {'old_val': 28, 'x': 160, 'z': 84, 'y': 161}, {'old_val': 28, 'x': 160, 'z': 84, 'y': 158}, {'old_val': 28, 'x': 160, 'z': 84, 'y': 157}, {'old_val': 28, 'x': 159, 'z': 84, 'y': 159}], 'start_point': {'x': 667, 'y': 680}, 'offset': [], 'uuid': 'a86f26a7-11fb-0aa7-b499-b225e3521a3a'}, {'paintValue': 0, 'world_coor': [{'x': 29.065002441406254, 'z': 12.207099914550781, 'y': -5.354507446289052}, {'x': 29.065002441406254, 'z': 12.207099914550781, 'y': -6.292007446289052}, {'x': 27.190002441406254, 'z': 12.207099914550781, 'y': -6.292007446289052}, {'x': 27.190002441406254, 'z': 12.207099914550781, 'y': -5.354507446289052}, {'x': 27.190002441406254, 'z': 12.207099914550781, 'y': -0.6670074462890518}], 'checkedBy': 'ssacco', 'matrix_coor': [], 'start_point': {'x': 667, 'y': 664}, 'offset': [], 'uuid': '28300a73-9b30-d005-f0c5-5b1743293b04'}, {'paintValue': 0, 'world_coor': [{'x': 29.065002441406254, 'z': 12.207099914550781, 'y': -4.417007446289052}], 'checkedBy': 'ssacco', 'matrix_coor': [{'old_val': 28, 'x': 161, 'z': 84, 'y': 162}], 'start_point': {'x': 671, 'y': 671}, 'offset': [], 'uuid': 'c6814f48-526a-8ad7-58d2-69e02ab20575'}, {'paintValue': 0, 'world_coor': [{'x': 27.190002441406254, 'z': 13.207099914550781, 'y': -3.479507446289052}, {'x': 27.190002441406254, 'z': 13.207099914550781, 'y': -4.417007446289052}, {'x': 27.190002441406254, 'z': 13.207099914550781, 'y': -5.354507446289052}, {'x': 28.127502441406254, 'z': 13.207099914550781, 'y': -4.417007446289052}, {'x': 27.190002441406254, 'z': 13.207099914550781, 'y': -2.542007446289052}, {'x': 27.190002441406254, 'z': 13.207099914550781, 'y': -1.6045074462890518}], 'checkedBy': 'ssacco', 'matrix_coor': [{'old_val': 28, 'x': 159, 'z': 83, 'y': 161}, {'old_val': 28, 'x': 159, 'z': 83, 'y': 162}, {'old_val': 28, 'x': 159, 'z': 83, 'y': 163}, {'old_val': 28, 'x': 160, 'z': 83, 'y': 162}, {'old_val': 28, 'x': 159, 'z': 83, 'y': 160}, {'old_val': 28, 'x': 159, 'z': 83, 'y': 159}], 'start_point': {'x': 668, 'y': 680}, 'offset': [], 'uuid': '10e5e4ff-55e9-872d-9c4f-00c0c01ee5af'}, {'paintValue': 0, 'world_coor': [{'x': 29.065002441406254, 'z': 11.207099914550781, 'y': -4.417007446289052}, {'x': 29.065002441406254, 'z': 11.207099914550781, 'y': -5.354507446289052}, {'x': 28.127502441406254, 'z': 11.207099914550781, 'y': -6.292007446289052}, {'x': 27.190002441406254, 'z': 11.207099914550781, 'y': -6.292007446289052}, {'x': 29.065002441406254, 'z': 11.207099914550781, 'y': -6.292007446289052}], 'checkedBy': 'ssacco', 'matrix_coor': [], 'start_point': {'x': 675, 'y': 687}, 'offset': [], 'uuid': '90dd721e-c7a6-97d8-656b-85539f244d72'}, {'paintValue': 0, 'world_coor': [{'x': 28.127502441406254, 'z': 11.207099914550781, 'y': -0.6670074462890518}], 'checkedBy': 'ssacco', 'matrix_coor': [{'old_val': 28, 'x': 160, 'z': 85, 'y': 158}], 'start_point': {'x': 667, 'y': 659}, 'offset': [], 'uuid': '41e6e463-aa66-8be6-f676-13088bac3696'}, {'paintValue': 0, 'world_coor': [{'x': 27.190002441406254, 'z': 10.207099914550781, 'y': -3.479507446289052}, {'x': 27.190002441406254, 'z': 10.207099914550781, 'y': -4.417007446289052}, {'x': 28.127502441406254, 'z': 10.207099914550781, 'y': -4.417007446289052}, {'x': 28.127502441406254, 'z': 10.207099914550781, 'y': -3.479507446289052}, {'x': 28.127502441406254, 'z': 10.207099914550781, 'y': -2.542007446289052}, {'x': 29.065002441406254, 'z': 10.207099914550781, 'y': -3.479507446289052}, {'x': 29.065002441406254, 'z': 10.207099914550781, 'y': -2.542007446289052}, {'x': 29.065002441406254, 'z': 10.207099914550781, 'y': -4.417007446289052}, {'x': 29.065002441406254, 'z': 10.207099914550781, 'y': -5.354507446289052}, {'x': 28.127502441406254, 'z': 10.207099914550781, 'y': -5.354507446289052}, {'x': 26.252502441406254, 'z': 10.207099914550781, 'y': -2.542007446289052}, {'x': 28.127502441406254, 'z': 10.207099914550781, 'y': -1.6045074462890518}, {'x': 26.252502441406254, 'z': 10.207099914550781, 'y': -3.479507446289052}, {'x': 26.252502441406254, 'z': 10.207099914550781, 'y': -4.417007446289052}], 'checkedBy': 'ssacco', 'matrix_coor': [{'old_val': 28, 'x': 159, 'z': 86, 'y': 161}, {'old_val': 28, 'x': 159, 'z': 86, 'y': 162}, {'old_val': 28, 'x': 160, 'z': 86, 'y': 162}, {'old_val': 28, 'x': 160, 'z': 86, 'y': 161}, {'old_val': 28, 'x': 160, 'z': 86, 'y': 160}, {'old_val': 28, 'x': 161, 'z': 86, 'y': 161}, {'old_val': 28, 'x': 161, 'z': 86, 'y': 160}, {'old_val': 28, 'x': 161, 'z': 86, 'y': 162}, {'old_val': 28, 'x': 161, 'z': 86, 'y': 163}, {'old_val': 28, 'x': 160, 'z': 86, 'y': 163}, {'old_val': 28, 'x': 158, 'z': 86, 'y': 160}, {'old_val': 28, 'x': 160, 'z': 86, 'y': 159}, {'old_val': 28, 'x': 158, 'z': 86, 'y': 161}, {'old_val': 28, 'x': 158, 'z': 86, 'y': 162}], 'start_point': {'x': 672, 'y': 675}, 'offset': [], 'uuid': 'e517b8f9-a48f-c835-cb46-b9e37cb7911b'}, {'paintValue': 0, 'world_coor': [{'x': -35.62249755859375, 'z': 11.207099914550781, 'y': -2.542007446289052}, {'x': -35.62249755859375, 'z': 11.207099914550781, 'y': -4.417007446289052}, {'x': -36.55999755859375, 'z': 11.207099914550781, 'y': -5.354507446289052}, {'x': -36.55999755859375, 'z': 11.207099914550781, 'y': -4.417007446289052}, {'x': -36.55999755859375, 'z': 11.207099914550781, 'y': -3.479507446289052}, {'x': -36.55999755859375, 'z': 11.207099914550781, 'y': -2.542007446289052}, {'x': -36.55999755859375, 'z': 11.207099914550781, 'y': -7.229507446289052}], 'checkedBy': 'ssacco', 'matrix_coor': [{'old_val': 17, 'x': 92, 'z': 85, 'y': 160}, {'old_val': 17, 'x': 92, 'z': 85, 'y': 162}, {'old_val': 17, 'x': 91, 'z': 85, 'y': 163}, {'old_val': 17, 'x': 91, 'z': 85, 'y': 162}, {'old_val': 17, 'x': 91, 'z': 85, 'y': 161}, {'old_val': 17, 'x': 91, 'z': 85, 'y': 160}, {'old_val': 17, 'x': 91, 'z': 85, 'y': 165}], 'start_point': {'x': 384, 'y': 692}, 'offset': [], 'uuid': '6894cf1d-955d-96f3-85c6-33680fb9d00d'}, {'paintValue': 0, 'world_coor': [{'x': -37.49749755859375, 'z': 9.207099914550781, 'y': -2.542007446289052}, {'x': -37.49749755859375, 'z': 9.207099914550781, 'y': -3.479507446289052}, {'x': -37.49749755859375, 'z': 9.207099914550781, 'y': -4.417007446289052}, {'x': -37.49749755859375, 'z': 9.207099914550781, 'y': -6.292007446289052}, {'x': -37.49749755859375, 'z': 9.207099914550781, 'y': -7.229507446289052}, {'x': -36.55999755859375, 'z': 9.207099914550781, 'y': -5.354507446289052}, {'x': -36.55999755859375, 'z': 9.207099914550781, 'y': -6.292007446289052}, {'x': -36.55999755859375, 'z': 9.207099914550781, 'y': -4.417007446289052}, {'x': -36.55999755859375, 'z': 9.207099914550781, 'y': -3.479507446289052}, {'x': -36.55999755859375, 'z': 9.207099914550781, 'y': -2.542007446289052}, {'x': -36.55999755859375, 'z': 9.207099914550781, 'y': -1.6045074462890518}, {'x': -35.62249755859375, 'z': 9.207099914550781, 'y': -1.6045074462890518}, {'x': -35.62249755859375, 'z': 9.207099914550781, 'y': -2.542007446289052}], 'checkedBy': 'ssacco', 'matrix_coor': [], 'start_point': {'x': 383, 'y': 672}, 'offset': [], 'uuid': 'e40afa0a-b1cd-2dd9-5ab2-188b83fb29e5'}, {'paintValue': 0, 'world_coor': [{'x': -38.43499755859375, 'z': 7.207099914550781, 'y': 0.27049255371094816}, {'x': -38.43499755859375, 'z': 7.207099914550781, 'y': -0.6670074462890518}, {'x': -37.49749755859375, 'z': 7.207099914550781, 'y': -1.6045074462890518}, {'x': -37.49749755859375, 'z': 7.207099914550781, 'y': -2.542007446289052}, {'x': -37.49749755859375, 'z': 7.207099914550781, 'y': -3.479507446289052}, {'x': -38.43499755859375, 'z': 7.207099914550781, 'y': -2.542007446289052}, {'x': -37.49749755859375, 'z': 7.207099914550781, 'y': -0.6670074462890518}], 'checkedBy': 'ssacco', 'matrix_coor': [{'old_val': 17, 'x': 89, 'z': 89, 'y': 157}, {'old_val': 17, 'x': 89, 'z': 89, 'y': 158}, {'old_val': 17, 'x': 90, 'z': 89, 'y': 159}, {'old_val': 17, 'x': 90, 'z': 89, 'y': 160}, {'old_val': 17, 'x': 90, 'z': 89, 'y': 161}, {'old_val': 17, 'x': 89, 'z': 89, 'y': 160}, {'old_val': 17, 'x': 90, 'z': 89, 'y': 158}], 'start_point': {'x': 373, 'y': 660}, 'offset': [], 'uuid': '0e1ae52c-97cc-768a-3fa5-eeafcc755826'}, {'paintValue': 0, 'world_coor': [{'x': -36.55999755859375, 'z': 10.207099914550781, 'y': -2.542007446289052}, {'x': -36.55999755859375, 'z': 10.207099914550781, 'y': -3.479507446289052}, {'x': -36.55999755859375, 'z': 10.207099914550781, 'y': -4.417007446289052}, {'x': -36.55999755859375, 'z': 10.207099914550781, 'y': -5.354507446289052}, {'x': -36.55999755859375, 'z': 10.207099914550781, 'y': -6.292007446289052}, {'x': -35.62249755859375, 'z': 10.207099914550781, 'y': -7.229507446289052}, {'x': -36.55999755859375, 'z': 10.207099914550781, 'y': -8.167007446289052}, {'x': -36.55999755859375, 'z': 10.207099914550781, 'y': -7.229507446289052}, {'x': -37.49749755859375, 'z': 10.207099914550781, 'y': -4.417007446289052}, {'x': -37.49749755859375, 'z': 10.207099914550781, 'y': -3.479507446289052}, {'x': -37.49749755859375, 'z': 10.207099914550781, 'y': -2.542007446289052}, {'x': -35.62249755859375, 'z': 10.207099914550781, 'y': -6.292007446289052}, {'x': -35.62249755859375, 'z': 10.207099914550781, 'y': -3.479507446289052}, {'x': -37.49749755859375, 'z': 10.207099914550781, 'y': -6.292007446289052}, {'x': -35.62249755859375, 'z': 10.207099914550781, 'y': -5.354507446289052}, {'x': -35.62249755859375, 'z': 10.207099914550781, 'y': -4.417007446289052}, {'x': -37.49749755859375, 'z': 10.207099914550781, 'y': -5.354507446289052}], 'checkedBy': 'ssacco', 'matrix_coor': [{'old_val': 17, 'x': 91, 'z': 86, 'y': 160}, {'old_val': 17, 'x': 91, 'z': 86, 'y': 161}, {'old_val': 17, 'x': 91, 'z': 86, 'y': 162}, {'old_val': 17, 'x': 91, 'z': 86, 'y': 163}, {'old_val': 17, 'x': 91, 'z': 86, 'y': 164}, {'old_val': 17, 'x': 92, 'z': 86, 'y': 165}, {'old_val': 17, 'x': 91, 'z': 86, 'y': 166}, {'old_val': 17, 'x': 91, 'z': 86, 'y': 165}, {'old_val': 17, 'x': 90, 'z': 86, 'y': 162}, {'old_val': 17, 'x': 90, 'z': 86, 'y': 161}, {'old_val': 17, 'x': 90, 'z': 86, 'y': 160}, {'old_val': 17, 'x': 92, 'z': 86, 'y': 164}, {'old_val': 17, 'x': 92, 'z': 86, 'y': 161}, {'old_val': 17, 'x': 90, 'z': 86, 'y': 164}, {'old_val': 17, 'x': 92, 'z': 86, 'y': 163}, {'old_val': 17, 'x': 92, 'z': 86, 'y': 162}, {'old_val': 17, 'x': 90, 'z': 86, 'y': 163}], 'start_point': {'x': 380, 'y': 685}, 'offset': [], 'uuid': 'dde705d8-5ec9-4cb0-adc3-417a30680e39'}, {'paintValue': 0, 'world_coor': [], 'checkedBy': 'ssacco', 'matrix_coor': [], 'start_point': {'x': 385, 'y': 669}, 'offset': [], 'uuid': 'e84ea09e-9326-b91e-eb3c-0831fdb7e012'}, {'paintValue': 0, 'world_coor': [], 'checkedBy': 'ssacco', 'matrix_coor': [], 'start_point': {'x': 385, 'y': 669}, 'offset': [], 'uuid': 'f4dc60ec-c218-6d2c-6810-4d22d43f6440'}], 'subject_id': 'mse65', 'checkedAt': datetime.datetime(2016, 12, 8, 23, 2, 51, 916000), 'checkedBy': 'ssacco'}\n",
      "\n"
     ]
    }
   ],
   "source": [
    "# this lists all the entries associated with a specific subject id\n",
    "# you can use this to see what data is there. you'll need \"entry_type:lst\" as that has the painters\n",
    "# you'll also need \"entry_type:freesurfer\" for\n",
    "\n",
    "cursor = collection.find({\"subject_id\":\"mse65\"})\n",
    "for item in cursor:\n",
    "    print()\n",
    "    print(item)\n",
    "    print()"
   ]
  },
  {
   "cell_type": "code",
   "execution_count": 25,
   "metadata": {
    "collapsed": false
   },
   "outputs": [
    {
     "data": {
      "text/plain": [
       "'hello\\n'"
      ]
     },
     "execution_count": 25,
     "metadata": {},
     "output_type": "execute_result"
    }
   ],
   "source": [
    "f = open(\"/Users/amitvakula/Documents/test.txt\",'r')\n",
    "f.read()"
   ]
  },
  {
   "cell_type": "code",
   "execution_count": 26,
   "metadata": {
    "collapsed": false
   },
   "outputs": [],
   "source": [
    "cursor = collection.find({\"subject_id\":\"mse65\", \"entry_type\":\"freesurfer\"})\n",
    "results = []\n",
    "for item in cursor:\n",
    "    results.append(item)\n",
    "assert len(results) == 1, \"more than one result! either modify the code or restrict your query Amit\"\n",
    "subject = results[0]\n",
    "subject[\"check_masks\"]\n",
    "\n",
    "DATA_HOME = \"/data/henry7/PBR/subjects/\"\n",
    "\n",
    "segmentation_mask = nib.load(DATA_HOME + subject[\"check_masks\"][1])"
   ]
  },
  {
   "cell_type": "code",
   "execution_count": 13,
   "metadata": {
    "collapsed": true
   },
   "outputs": [],
   "source": [
    "cursor = collection.find({\"subject_id\":\"mse65\", \"entry_type\":\"lst\"})\n",
    "results = []\n",
    "for item in cursor:\n",
    "    results.append(item)\n",
    "assert len(results) == 1, \"more than one result! either modify the code or restrict your query Amit\"\n",
    "painter_entry = results[0]"
   ]
  },
  {
   "cell_type": "code",
   "execution_count": 21,
   "metadata": {
    "collapsed": false
   },
   "outputs": [
    {
     "name": "stdout",
     "output_type": "stream",
     "text": [
      "13\n"
     ]
    }
   ],
   "source": [
    "print(len(painter_entry['painters']))\n",
    "painter_entry['painters'] = painter_entry['painters'][0:1]\n"
   ]
  },
  {
   "cell_type": "code",
   "execution_count": 32,
   "metadata": {
    "collapsed": false
   },
   "outputs": [
    {
     "data": {
      "text/plain": [
       "{'checkedBy': 'ssacco',\n",
       " 'matrix_coor': [{'old_val': 28, 'x': 159, 'y': 162, 'z': 84},\n",
       "  {'old_val': 28, 'x': 160, 'y': 162, 'z': 84},\n",
       "  {'old_val': 28, 'x': 160, 'y': 163, 'z': 84},\n",
       "  {'old_val': 28, 'x': 160, 'y': 164, 'z': 84},\n",
       "  {'old_val': 28, 'x': 159, 'y': 161, 'z': 84},\n",
       "  {'old_val': 28, 'x': 159, 'y': 160, 'z': 84},\n",
       "  {'old_val': 28, 'x': 160, 'y': 160, 'z': 84},\n",
       "  {'old_val': 28, 'x': 160, 'y': 161, 'z': 84},\n",
       "  {'old_val': 28, 'x': 160, 'y': 158, 'z': 84},\n",
       "  {'old_val': 28, 'x': 160, 'y': 157, 'z': 84},\n",
       "  {'old_val': 28, 'x': 159, 'y': 159, 'z': 84}],\n",
       " 'offset': [],\n",
       " 'paintValue': 0,\n",
       " 'start_point': {'x': 667, 'y': 680},\n",
       " 'uuid': 'a86f26a7-11fb-0aa7-b499-b225e3521a3a',\n",
       " 'world_coor': [{'x': 27.190002441406254,\n",
       "   'y': -4.417007446289052,\n",
       "   'z': 12.207099914550781},\n",
       "  {'x': 28.127502441406254, 'y': -4.417007446289052, 'z': 12.207099914550781},\n",
       "  {'x': 28.127502441406254, 'y': -5.354507446289052, 'z': 12.207099914550781},\n",
       "  {'x': 28.127502441406254, 'y': -6.292007446289052, 'z': 12.207099914550781},\n",
       "  {'x': 27.190002441406254, 'y': -3.479507446289052, 'z': 12.207099914550781},\n",
       "  {'x': 27.190002441406254, 'y': -2.542007446289052, 'z': 12.207099914550781},\n",
       "  {'x': 28.127502441406254, 'y': -2.542007446289052, 'z': 12.207099914550781},\n",
       "  {'x': 28.127502441406254, 'y': -3.479507446289052, 'z': 12.207099914550781},\n",
       "  {'x': 28.127502441406254, 'y': -0.6670074462890518, 'z': 12.207099914550781},\n",
       "  {'x': 28.127502441406254, 'y': 0.27049255371094816, 'z': 12.207099914550781},\n",
       "  {'x': 27.190002441406254,\n",
       "   'y': -1.6045074462890518,\n",
       "   'z': 12.207099914550781}]}"
      ]
     },
     "execution_count": 32,
     "metadata": {},
     "output_type": "execute_result"
    }
   ],
   "source": [
    "# ABOVE: clean up function and have it take in a subject ID and return (1) painter objects and (2) paths to data\n",
    "# extract data to get the segmentation masks\n",
    "# NOTE: where the data lives: /data/henry7/PBR/subjects/\n",
    "painter = painter_entry['painters'][0]\n",
    "painter"
   ]
  },
  {
   "cell_type": "code",
   "execution_count": 28,
   "metadata": {
    "collapsed": false
   },
   "outputs": [],
   "source": [
    "def get_segmentation_mask(db, subject_id=\"mse65\"):\n",
    "    cursor = db.find({\"subject_id\":subject_id, \"entry_type\":\"freesurfer\"})\n",
    "    results = []\n",
    "    for item in cursor:\n",
    "        results.append(item)\n",
    "    assert len(results) == 1, \"more than one result! either modify the code or restrict your query Amit\"\n",
    "    subject = results[0]\n",
    "    DATA_HOME = \"/data/henry7/PBR/subjects/\"\n",
    "    subject[\"check_masks\"][1]\n",
    "    return nib.load(DATA_HOME + subject[\"check_masks\"][1])\n",
    "\n",
    "seg_mask = get_segmentation_mask(collection, \"mse65\")"
   ]
  },
  {
   "cell_type": "code",
   "execution_count": 29,
   "metadata": {
    "collapsed": true
   },
   "outputs": [],
   "source": [
    "# affine transformations\n",
    "def get_papaya_aff(img):\n",
    "    vs = img.header.get_zooms()\n",
    "    aff = img.get_affine()\n",
    "    ort = nib.orientations.io_orientation(aff)\n",
    "    papaya_aff = np.zeros((4, 4))\n",
    "    for i, line in enumerate(ort):\n",
    "        papaya_aff[line[0],i] = vs[i]*line[1]\n",
    "    papaya_aff[:, 3] = aff[:, 3]\n",
    "    return papaya_aff"
   ]
  },
  {
   "cell_type": "code",
   "execution_count": 59,
   "metadata": {
    "collapsed": true
   },
   "outputs": [],
   "source": [
    "# convert the painter object points into the correct space\n",
    "\n",
    "def convert_to_indices(streamline, papaya_aff, aff, img):\n",
    "    #print(streamline)\n",
    "    topoints = lambda x : np.array([[m[\"x\"], m[\"y\"], m[\"z\"]] for m in x[\"world_coor\"]])\n",
    "    points_orig = topoints(streamline)\n",
    "    points_nifti_space = list(utils.move_streamlines([points_orig], aff, input_space=papaya_aff))[0]\n",
    "    from dipy.tracking._utils import _to_voxel_coordinates, _mapping_to_voxel\n",
    "    lin_T, offset = _mapping_to_voxel(aff, None)\n",
    "    idx = _to_voxel_coordinates(points_orig, lin_T, offset)\n",
    "    return points_nifti_space, idx\n",
    "\n",
    "def convert_to_volume(drawing, papaya_aff, aff, img, do_subsegment = True):\n",
    "\n",
    "    topoints = lambda x : np.array([[m[\"x\"], m[\"y\"], m[\"z\"]] for m in x[\"world_coor\"]])\n",
    "    points_orig = list(map(topoints, drawing))\n",
    "    if do_subsegment:\n",
    "        points = list(subsegment(points_orig, 0.5))\n",
    "    else:\n",
    "        points = points_orig\n",
    "    mask2 = utils.density_map(points, img.shape, affine=papaya_aff)\n",
    "    points_nifti_space = list(utils.move_streamlines(points, aff, input_space=papaya_aff))\n",
    "    mask1 = utils.density_map(points_nifti_space, img.shape, affine=aff)\n",
    "\n",
    "    #print((mask1 == mask2).all())\n",
    "    # img1 = nib.Nifti1Image(mask1)\n",
    "    #print(mask1.sum(), mask2.sum())\n",
    "    \n",
    "    return mask1, points_nifti_space"
   ]
  },
  {
   "cell_type": "code",
   "execution_count": 36,
   "metadata": {
    "collapsed": false,
    "scrolled": false
   },
   "outputs": [
    {
     "name": "stdout",
     "output_type": "stream",
     "text": [
      "nifti\n",
      "[[ 27.19000244  -4.41700745  12.20709991]\n",
      " [ 28.12750244  -4.41700745  12.20709991]\n",
      " [ 28.12750244  -5.35450745  12.20709991]\n",
      " [ 28.12750244  -6.29200745  12.20709991]\n",
      " [ 27.19000244  -3.47950745  12.20709991]\n",
      " [ 27.19000244  -2.54200745  12.20709991]\n",
      " [ 28.12750244  -2.54200745  12.20709991]\n",
      " [ 28.12750244  -3.47950745  12.20709991]\n",
      " [ 28.12750244  -0.66700745  12.20709991]\n",
      " [ 28.12750244   0.27049255  12.20709991]\n",
      " [ 27.19000244  -1.60450745  12.20709991]]\n",
      "trans\n",
      "[[ 98 128  95]\n",
      " [ 97 128  95]\n",
      " [ 97 128  94]\n",
      " [ 97 128  93]\n",
      " [ 98 128  96]\n",
      " [ 98 128  97]\n",
      " [ 97 128  97]\n",
      " [ 97 128  96]\n",
      " [ 97 128  99]\n",
      " [ 97 128 100]\n",
      " [ 98 128  98]]\n"
     ]
    },
    {
     "name": "stderr",
     "output_type": "stream",
     "text": [
      "/Users/amitvakula/anaconda/envs/research3/lib/python3.5/site-packages/ipykernel/__main__.py:4: DeprecationWarning: get_affine method is deprecated.\n",
      "Please use the ``img.affine`` property instead.\n",
      "\n",
      "* deprecated from version: 2.1\n",
      "* Will raise <class 'nibabel.deprecator.ExpiredDeprecationError'> as of version: 4.0\n",
      "/Users/amitvakula/anaconda/envs/research3/lib/python3.5/site-packages/ipykernel/__main__.py:8: VisibleDeprecationWarning: using a non-integer number instead of an integer will result in an error in the future\n"
     ]
    }
   ],
   "source": [
    "nifti_points, trans_points = convert_to_indices(painter, get_papaya_aff(seg_mask), seg_mask.affine, seg_mask)\n",
    "print(\"nifti\")\n",
    "print(nifti_points)\n",
    "print(\"trans\")\n",
    "print(trans_points)"
   ]
  },
  {
   "cell_type": "code",
   "execution_count": 69,
   "metadata": {
    "collapsed": true
   },
   "outputs": [],
   "source": [
    "# the actual paint function (put helper functions above where I convert to the right space?)\n",
    "def get_points_to_paint(drawing, papaya_affine, aff, img, outfilepath, name, authors, suffix=\"\"):\n",
    "    import pandas as pd\n",
    "    df = pd.DataFrame()\n",
    "\n",
    "    for d in drawing:\n",
    "        pv = d[\"paintValue\"]\n",
    "        points_nii_space, trans_points = convert_to_indices(d, papaya_affine, aff, img)\n",
    "        tmp = []\n",
    "        for ni in trans_points:\n",
    "            tmp.append({\"x\": ni[0], \"y\":ni[1], \"z\": ni[2], \"val\": pv})\n",
    "        df = df.append(pd.DataFrame(tmp), ignore_index=True)\n",
    "    df.drop_duplicates(inplace=True)\n",
    "    #if not exists(join(cc[\"output_directory\"], outfilepath)):\n",
    "        #os.makedirs(join(cc[\"output_directory\"],outfilepath))\n",
    "        #print(join(cc[\"output_directory\"], outfilepath), \"created\")\n",
    "    #outfilename = join(outfilepath, \"{}-{}{}.csv\".format(name,\"-\".join(authors), suffix))\n",
    "    #nib.Nifti1Image(mask.astype(np.float32), affine=aff).to_filename(join(cc[\"output_directory\"], outfilename))\n",
    "    #df.to_csv(join(cc[\"output_directory\"], outfilename))\n",
    "    #return outfilename\n",
    "    return df\n",
    "\n",
    "def create_paint_volume(drawing, img, output, outfilepath):\n",
    "    #from pbr.config import config as cc\n",
    "    #img = nib.load(join(cc[\"output_directory\"],output[\"check_masks\"][-1]))\n",
    "    aff = img.get_affine() #affine()\n",
    "    papaya_affine = get_papaya_aff(img)\n",
    "    data = np.zeros(img.shape)\n",
    "    outputfiles = []\n",
    "    mse = output[\"subject_id\"]\n",
    "    sequence = output[\"name\"]\n",
    "    #for c in output[\"contours\"]:\n",
    "    drawing_old = output[\"painters\"]\n",
    "    #drawing = []\n",
    "    #for p in drawing_old:\n",
    "    #    if len(p[\"world_coor\"]):\n",
    "    #        drawing.append(p)\n",
    "\n",
    "    name = output[\"entry_type\"] #contour['name'].replace(\" \", \"_\")\n",
    "    authors = set([q[\"checkedBy\"] for q in drawing])\n",
    "\n",
    "    data = img.get_data() + data\n",
    "    \n",
    "    df = get_points_to_paint(drawing, papaya_affine, aff, img, outfilepath, name, authors, suffix=\"\")\n",
    "    for item in df.iterrows():\n",
    "        paint_value = item[1]['val']\n",
    "        x,y,z = item[1]['x'], item[1]['y'], item[1]['z']\n",
    "        data[x][y][z] = paint_value\n",
    "    \n",
    "    painted_image = nib.nifti1.Nifti1Image(data,aff,img.header)\n",
    "    \n",
    "    nib.save(painted_image,os.path.join(outfilepath,\"painted.nii.gz\"))\n",
    "    \n",
    "        \n",
    "    #mask, points_nifti_space = convert_to_volume(drawing, papaya_affine, aff, img, False)\n",
    "\n",
    "    #outfilepath = join(mse, \"mindcontrol/{}/{}/rois\".format(sequence, output[\"entry_type\"]))\n",
    "\n",
    "    #papaya_aff_points = paintVolume(drawing, papaya_affine, aff, img, outfilepath, name, authors)\n",
    "    #print(\"painter wrote\", join(cc[\"output_directory\"], outfilename))\n",
    "    #outputfiles.append(outfilename)\n",
    "\n",
    "    #aff_points = paintVolume(drawing, aff, aff, img, outfilepath, name, authors, suffix=\"_origAff\")\n",
    "    #print(\"painter wrote\", join(cc[\"output_directory\"], outfilename))\n",
    "    #outputfiles.append(outfilename)\n",
    "    \n",
    "    #to_rtn = paint_over()\n",
    "    \n",
    "    return painted_image"
   ]
  },
  {
   "cell_type": "code",
   "execution_count": 70,
   "metadata": {
    "collapsed": false
   },
   "outputs": [
    {
     "name": "stdout",
     "output_type": "stream",
     "text": [
      "0\n",
      "0\n",
      "0\n",
      "0\n",
      "0\n",
      "0\n",
      "0\n",
      "0\n",
      "0\n",
      "0\n",
      "0\n"
     ]
    },
    {
     "name": "stderr",
     "output_type": "stream",
     "text": [
      "/Users/amitvakula/anaconda/envs/research3/lib/python3.5/site-packages/ipykernel/__main__.py:4: DeprecationWarning: get_affine method is deprecated.\n",
      "Please use the ``img.affine`` property instead.\n",
      "\n",
      "* deprecated from version: 2.1\n",
      "* Will raise <class 'nibabel.deprecator.ExpiredDeprecationError'> as of version: 4.0\n",
      "/Users/amitvakula/anaconda/envs/research3/lib/python3.5/site-packages/ipykernel/__main__.py:8: VisibleDeprecationWarning: using a non-integer number instead of an integer will result in an error in the future\n"
     ]
    }
   ],
   "source": [
    "#print(painter)\n",
    "data_frame = get_points_to_paint([painter], get_papaya_aff(seg_mask), seg_mask.affine, seg_mask, None, None, None)\n",
    "#print(data_frame)\n",
    "points_to_write = []\n",
    "for item in data_frame.iterrows():\n",
    "    print(item[1]['val'])"
   ]
  },
  {
   "cell_type": "code",
   "execution_count": 71,
   "metadata": {
    "collapsed": false
   },
   "outputs": [
    {
     "name": "stderr",
     "output_type": "stream",
     "text": [
      "/Users/amitvakula/anaconda/envs/research3/lib/python3.5/site-packages/ipykernel/__main__.py:26: DeprecationWarning: get_affine method is deprecated.\n",
      "Please use the ``img.affine`` property instead.\n",
      "\n",
      "* deprecated from version: 2.1\n",
      "* Will raise <class 'nibabel.deprecator.ExpiredDeprecationError'> as of version: 4.0\n",
      "/Users/amitvakula/anaconda/envs/research3/lib/python3.5/site-packages/ipykernel/__main__.py:4: DeprecationWarning: get_affine method is deprecated.\n",
      "Please use the ``img.affine`` property instead.\n",
      "\n",
      "* deprecated from version: 2.1\n",
      "* Will raise <class 'nibabel.deprecator.ExpiredDeprecationError'> as of version: 4.0\n",
      "/Users/amitvakula/anaconda/envs/research3/lib/python3.5/site-packages/ipykernel/__main__.py:8: VisibleDeprecationWarning: using a non-integer number instead of an integer will result in an error in the future\n"
     ]
    }
   ],
   "source": [
    "modified_segmentation = create_paint_volume([painter_entry['painters'][0]], seg_mask, painter_entry, \"/Users/amitvakula/Documents/research/results\")"
   ]
  },
  {
   "cell_type": "code",
   "execution_count": 79,
   "metadata": {
    "collapsed": false,
    "scrolled": false
   },
   "outputs": [
    {
     "name": "stdout",
     "output_type": "stream",
     "text": [
      "at (97, 128, 93) we got value 43.0\n",
      "at (97, 128, 94) we got value 43.0\n",
      "at (97, 128, 95) we got value 43.0\n",
      "at (97, 128, 96) we got value 43.0\n",
      "at (97, 128, 97) we got value 43.0\n",
      "at (97, 128, 99) we got value 43.0\n",
      "at (97, 128, 100) we got value 43.0\n",
      "at (98, 128, 95) we got value 43.0\n",
      "at (98, 128, 96) we got value 43.0\n",
      "at (98, 128, 97) we got value 43.0\n",
      "at (98, 128, 98) we got value 43.0\n"
     ]
    }
   ],
   "source": [
    "diff_map = seg_mask.get_data() - modified_segmentation.get_data()\n",
    "for i in range(np.shape(diff_map)[0]):\n",
    "    for j in range(np.shape(diff_map)[1]):\n",
    "        for k in range(np.shape(diff_map)[2]):\n",
    "            if diff_map[i][j][k] != 0:\n",
    "                print(\"at {} we got value {}\".format((i,j,k),diff_map[i][j][k]))"
   ]
  },
  {
   "cell_type": "code",
   "execution_count": null,
   "metadata": {
    "collapsed": true
   },
   "outputs": [],
   "source": []
  }
 ],
 "metadata": {
  "anaconda-cloud": {},
  "kernelspec": {
   "display_name": "Python [conda env:research3]",
   "language": "python",
   "name": "conda-env-research3-py"
  },
  "language_info": {
   "codemirror_mode": {
    "name": "ipython",
    "version": 3
   },
   "file_extension": ".py",
   "mimetype": "text/x-python",
   "name": "python",
   "nbconvert_exporter": "python",
   "pygments_lexer": "ipython3",
   "version": "3.5.2"
  }
 },
 "nbformat": 4,
 "nbformat_minor": 1
}
